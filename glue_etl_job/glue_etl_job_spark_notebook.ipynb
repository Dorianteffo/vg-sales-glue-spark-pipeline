{
 "cells": [
  {
   "cell_type": "markdown",
   "metadata": {},
   "source": [
    "### Create glue context and job "
   ]
  },
  {
   "cell_type": "code",
   "execution_count": null,
   "metadata": {},
   "outputs": [],
   "source": [
    "# import packages \n",
    "import sys\n",
    "from awsglue.transforms import *\n",
    "from awsglue.utils import getResolvedOptions\n",
    "from pyspark.context import SparkContext\n",
    "from awsglue.context import GlueContext\n",
    "from awsglue.dynamicframe import DynamicFrame\n",
    "from awsglue.job import Job\n",
    "from pyspark.sql import functions as F\n",
    "from pyspark.sql.window import Window\n",
    "from pyspark.sql.types import IntegerType\n",
    "\n",
    "args = getResolvedOptions(sys.argv, [\"JOB_NAME\"])\n",
    "sc = SparkContext()\n",
    "glueContext = GlueContext(sc)\n",
    "spark = glueContext.spark_session\n",
    "job = Job(glueContext)\n",
    "job.init(args[\"JOB_NAME\"], args)\n"
   ]
  },
  {
   "cell_type": "markdown",
   "metadata": {},
   "source": [
    "### Create spark dataframe \n"
   ]
  },
  {
   "cell_type": "code",
   "execution_count": null,
   "metadata": {},
   "outputs": [],
   "source": [
    "DataCatalogtable_node1 = glueContext.create_dynamic_frame.from_catalog(\n",
    "    database=\"video-games-data\",\n",
    "    table_name=\"initial_dataset\",\n",
    "    transformation_ctx=\"DataCatalogtable_node1\",\n",
    ")\n",
    "\n",
    "df = DataCatalogtable_node1.toDF()"
   ]
  },
  {
   "cell_type": "markdown",
   "metadata": {},
   "source": [
    "### Drop duplicated and unnecessary columns "
   ]
  },
  {
   "cell_type": "code",
   "execution_count": null,
   "metadata": {},
   "outputs": [],
   "source": [
    "df = df.dropDuplicates(['Name','Year','Genre','Platform', 'Publisher'])\n",
    "\n",
    "df = df.withColumn(\"Year\", df[\"Year\"].cast(IntegerType())) \\\n",
    "        .drop(\"Name\") \\\n",
    "        .drop(\"Publisher\") \\\n",
    "        .drop(\"Rank\")"
   ]
  },
  {
   "cell_type": "markdown",
   "metadata": {},
   "source": [
    "### Filter out records with Null year, genre or platform, and year above 2015"
   ]
  },
  {
   "cell_type": "code",
   "execution_count": null,
   "metadata": {},
   "outputs": [],
   "source": [
    "df_final = df.filter((F.col(\"Year\").isNotNull()) & (F.col(\"Genre\").isNotNull()) & (F.col(\"Platform\").isNotNull()) \n",
    "& (df[\"Year\"]<=2015))    "
   ]
  },
  {
   "cell_type": "markdown",
   "metadata": {},
   "source": [
    "### Group the data by year, platform and genre "
   ]
  },
  {
   "cell_type": "code",
   "execution_count": null,
   "metadata": {},
   "outputs": [],
   "source": [
    "df_group = df_final \\\n",
    ".groupBy(\"Year\",\"Platform\",\"Genre\") \\\n",
    ".agg(F.count(\"*\").alias(\"Total_games\"), F.round(F.sum(\"NA_Sales\"),2).alias('North_america_sales(millions)'), \\\n",
    "F.round(F.sum(\"EU_Sales\"),2).alias(\"Europe_sales(millions)\"), F.round(F.sum(\"JP_Sales\"),2).alias(\"Japan_sales(millions)\"), \\\n",
    "F.round(F.sum(\"Other_Sales\"),2).alias(\"Rest_of_world_sales(millions)\"), F.round(F.sum(\"Global_Sales\"),2).alias(\"Worldwide_sales(millions)\")) \\\n",
    ".orderBy(\"Year\")"
   ]
  },
  {
   "cell_type": "markdown",
   "metadata": {},
   "source": [
    "### Create window specifications "
   ]
  },
  {
   "cell_type": "code",
   "execution_count": null,
   "metadata": {},
   "outputs": [],
   "source": [
    "sales_window = Window.partitionBy(\"Year\",\"Platform\").orderBy(F.col(\"Worldwide_sales(millions)\").desc())"
   ]
  },
  {
   "cell_type": "markdown",
   "metadata": {},
   "source": [
    "### Select top genre per year and platform"
   ]
  },
  {
   "cell_type": "code",
   "execution_count": null,
   "metadata": {},
   "outputs": [],
   "source": [
    "final_df = df_group.withColumn(\"genre_rank\",F.rank().over(sales_window)) \\\n",
    "                .filter(F.col(\"genre_rank\")==1) \\\n",
    "                .select(\"Year\",\"Platform\",\"Genre\",\"Total_games\",\"North_america_sales(millions)\",\"Europe_sales(millions)\",\n",
    "                        \"Japan_sales(millions)\",\"Rest_of_world_sales(millions)\",\"Worldwide_sales(millions)\") \\\n",
    "                .orderBy(\"Year\")"
   ]
  },
  {
   "cell_type": "markdown",
   "metadata": {},
   "source": [
    "### Create glue dynamic frame"
   ]
  },
  {
   "cell_type": "code",
   "execution_count": null,
   "metadata": {},
   "outputs": [],
   "source": [
    "glue_dynamic_frame_final = DynamicFrame.fromDF(df_final, glueContext, \"glue_etl_vg_sales\")"
   ]
  },
  {
   "cell_type": "markdown",
   "metadata": {},
   "source": [
    "### Write data "
   ]
  },
  {
   "cell_type": "code",
   "execution_count": null,
   "metadata": {},
   "outputs": [],
   "source": [
    "S3bucket_node2 = glueContext.getSink(\n",
    "    path=\"s3://video-game-etl/parquet-format-data/\",\n",
    "    connection_type=\"s3\",\n",
    "    updateBehavior=\"UPDATE_IN_DATABASE\",\n",
    "    partitionKeys=[],\n",
    "    compression=\"snappy\",\n",
    "    enableUpdateCatalog=True,\n",
    "    transformation_ctx=\"S3bucket_node2\",\n",
    ")\n",
    "S3bucket_node2.setCatalogInfo(\n",
    "    catalogDatabase=\"video-games-data\",\n",
    "    catalogTableName=\"vg-sales-report-parquet-format\",\n",
    ")\n",
    "S3bucket_node2.setFormat(\"glueparquet\")\n",
    "S3bucket_node2.writeFrame(glue_dynamic_frame_final)\n",
    "job.commit()"
   ]
  }
 ],
 "metadata": {
  "kernelspec": {
   "display_name": "base",
   "language": "python",
   "name": "python3"
  },
  "language_info": {
   "codemirror_mode": {
    "name": "ipython",
    "version": 3
   },
   "file_extension": ".py",
   "mimetype": "text/x-python",
   "name": "python",
   "nbconvert_exporter": "python",
   "pygments_lexer": "ipython3",
   "version": "3.10.9"
  },
  "orig_nbformat": 4
 },
 "nbformat": 4,
 "nbformat_minor": 2
}
